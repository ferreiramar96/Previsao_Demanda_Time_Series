{
  "nbformat": 4,
  "nbformat_minor": 0,
  "metadata": {
    "colab": {
      "provenance": [],
      "include_colab_link": true
    },
    "kernelspec": {
      "name": "python3",
      "display_name": "Python 3"
    }
  },
  "cells": [
    {
      "cell_type": "markdown",
      "metadata": {
        "id": "view-in-github",
        "colab_type": "text"
      },
      "source": [
        "<a href=\"https://colab.research.google.com/github/ferreiramar96/Previsao_Demanda_Vinhos_Time_Series/blob/main/Previs%C3%A3o_de_Demanda_Vinhos_(S%C3%A9rie_Temporal).ipynb\" target=\"_parent\"><img src=\"https://colab.research.google.com/assets/colab-badge.svg\" alt=\"Open In Colab\"/></a>"
      ]
    },
    {
      "cell_type": "markdown",
      "metadata": {
        "id": "TLbRIt7ElMWx"
      },
      "source": [
        "# PREVISÃO DE DEMANDA\n",
        "\n",
        "Como falamos antes, nossos templates ficarão cada vez mais simples!!\n",
        "\n",
        "O objetivo desse projeto é prever a demanda por vinhos em lojas especializadas em vinho. Para esse projeto, temos 2 datasets, um sobre o catálogo de vinhos da loja e outro sobre as vendas.\n",
        "\n",
        "* [Dados sobre os produtos](https://raw.githubusercontent.com/rafaelnduarte/sigmoidal_data/master/products.csv)\n",
        "* [Dados de Vendas](https://raw.githubusercontent.com/rafaelnduarte/sigmoidal_data/master/sales-clean.csv)\n",
        "\n",
        "Nesse projeto, é VITAL que haja MUITA ATENÇÃO sobre os detalhes mencionados que permeiam as análise de séries temporais. É um projeto que demanda muita atenção e cuidado, e uma documentação feita minuciosamente.\n",
        "\n",
        "Aqui, queremos, como sempre, trazer o máximo de autonomia e independência pra vocês. Façam o download, e disponibilizem os seus dados, carreguem eles aqui, e desenvolvam o projeto.\n",
        "\n",
        "## Objetivos\n",
        "\n",
        "* Contextualização do problema, dos dados, do projeto.\n",
        "* Análise completa dos dados e do problema (Na mão, ou com Pandas Profiling, SweetViz, etc)\n",
        "* Desenvolver uma solução de Machine Learning eficiente com PyCaret para Classificação\n",
        "\n",
        "LEMBREM-SE: Documentação, Storytelling, Artigo com Código!\n",
        "\n",
        "Mãos à obra e boa sorte!\n"
      ]
    },
    {
      "cell_type": "code",
      "metadata": {
        "id": "x-y79MhuxIs5"
      },
      "source": [],
      "execution_count": null,
      "outputs": []
    }
  ]
}